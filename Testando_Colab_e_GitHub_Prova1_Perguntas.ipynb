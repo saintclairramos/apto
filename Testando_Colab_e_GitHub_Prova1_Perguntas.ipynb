{
  "nbformat": 4,
  "nbformat_minor": 0,
  "metadata": {
    "colab": {
      "name": "Testando_Colab_e_GitHub_Prova1 Perguntas.ipynb",
      "provenance": []
    },
    "kernelspec": {
      "name": "python3",
      "display_name": "Python 3"
    },
    "language_info": {
      "name": "python"
    }
  },
  "cells": [
    {
      "cell_type": "markdown",
      "metadata": {
        "id": "wCxHrqaEDRwT"
      },
      "source": [
        "**Exercício 1:** Criar array com 10 elementos iguais a 0"
      ]
    },
    {
      "cell_type": "code",
      "metadata": {
        "id": "Wm8LUoOTnZto"
      },
      "source": [
        ""
      ],
      "execution_count": null,
      "outputs": []
    },
    {
      "cell_type": "markdown",
      "metadata": {
        "id": "ic1xPze0Dfp9"
      },
      "source": [
        "**Exercício 2:** Criar array com 15 elementos iguais a 1"
      ]
    },
    {
      "cell_type": "code",
      "metadata": {
        "id": "Kocsa66VnbDZ"
      },
      "source": [
        ""
      ],
      "execution_count": null,
      "outputs": []
    },
    {
      "cell_type": "markdown",
      "metadata": {
        "id": "mvmHnRSlDoic"
      },
      "source": [
        "**Exercício 3:** Array com os números pares de 50 até 1, com intervalo de contagem de 2."
      ]
    },
    {
      "cell_type": "code",
      "metadata": {
        "id": "h_GaqvkNBFSY"
      },
      "source": [
        ""
      ],
      "execution_count": null,
      "outputs": []
    },
    {
      "cell_type": "markdown",
      "metadata": {
        "id": "ddyQT-iBFNV3"
      },
      "source": [
        "**Exercício 4:** Array bidimensional 10x10 com números aleatórios inteiros entre 1 e 100"
      ]
    },
    {
      "cell_type": "code",
      "metadata": {
        "id": "w1QHoeZIBFX1"
      },
      "source": [
        ""
      ],
      "execution_count": null,
      "outputs": []
    },
    {
      "cell_type": "markdown",
      "metadata": {
        "id": "HRvgQHYXJnSb"
      },
      "source": [
        "**Exercício 5:** A série de Fibonacci é formada pela seqüência 1,1,2,3,5,8,13,21,34,55,... \n",
        "\n",
        "\n",
        "*   Faça um programa capaz de gerar a série até o n−ésimo termo; \n",
        "*   Receba via input \"Digite o termo desejado\";\n",
        "*   Mostrar o valor que corresponde ao termo informado.\n"
      ]
    },
    {
      "cell_type": "code",
      "metadata": {
        "id": "I9mvqqF7J0-k"
      },
      "source": [
        ""
      ],
      "execution_count": null,
      "outputs": []
    },
    {
      "cell_type": "markdown",
      "metadata": {
        "id": "d9z5N6WNLqad"
      },
      "source": [
        "**Exercício 6:** Um número primo é aquele que é dividido apenas por um e por ele mesmo. Entre 0 e 100 existem apenas 25 números primos.\n",
        "\n",
        "*   Receba via input \"Digite um número\";\n",
        "*   Mostrar com \"True\" ou \"False\" se o número informado é primo.\n"
      ]
    },
    {
      "cell_type": "code",
      "metadata": {
        "id": "YqOQ6pqFnrMN"
      },
      "source": [
        ""
      ],
      "execution_count": null,
      "outputs": []
    }
  ]
}