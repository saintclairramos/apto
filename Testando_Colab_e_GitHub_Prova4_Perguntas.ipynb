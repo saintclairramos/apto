{
  "nbformat": 4,
  "nbformat_minor": 0,
  "metadata": {
    "colab": {
      "name": "Testando_Colab_e_GitHub_Prova4 Perguntas.ipynb",
      "provenance": [],
      "collapsed_sections": []
    },
    "kernelspec": {
      "name": "python3",
      "display_name": "Python 3"
    },
    "language_info": {
      "name": "python"
    }
  },
  "cells": [
    {
      "cell_type": "markdown",
      "metadata": {
        "id": "s9OVoeW6LNQG"
      },
      "source": [
        "**Exercício 1:** Verificação do CPF\n",
        "*   Faça um programa capaz identificar o cpf está correto; \n",
        "*   Receba via input \"Digite um número no formato 999.999.999-99\";\n",
        "*   Mostrar \"True\" ou \"False\"."
      ]
    },
    {
      "cell_type": "code",
      "metadata": {
        "id": "XZ3SInK1jmx2"
      },
      "source": [
        ""
      ],
      "execution_count": null,
      "outputs": []
    },
    {
      "cell_type": "markdown",
      "metadata": {
        "id": "vXhYg4apNil9"
      },
      "source": [
        "**Exercício 2:** Organizar números inteiros no modo crescente.\n",
        "*   Fazer Um script simples para organizar números inteiros no modo crescente.\n",
        "*   Receba via input Digite os números a serem organizados, para transcreve-los digite T"
      ]
    },
    {
      "cell_type": "code",
      "metadata": {
        "id": "3DAJn333jnnL"
      },
      "source": [
        ""
      ],
      "execution_count": null,
      "outputs": []
    }
  ]
}