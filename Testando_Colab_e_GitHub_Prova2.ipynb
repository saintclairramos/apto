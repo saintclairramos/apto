{
  "nbformat": 4,
  "nbformat_minor": 0,
  "metadata": {
    "colab": {
      "name": "Testando_Colab_e_GitHub_Prova2.ipynb",
      "provenance": [],
      "collapsed_sections": []
    },
    "kernelspec": {
      "name": "python3",
      "display_name": "Python 3"
    },
    "language_info": {
      "name": "python"
    }
  },
  "cells": [
    {
      "cell_type": "markdown",
      "metadata": {
        "id": "s9OVoeW6LNQG"
      },
      "source": [
        "**Exercício 1:** Utilizando Web scraping com lxml, capturar os índices de 1 a 7 da url abaixo:\n",
        "*   url = \"https://es.wikipedia.org/wiki/Web_scraping\"\n",
        "*   dar um print (indice, conteudo)\n",
        "\n"
      ]
    },
    {
      "cell_type": "code",
      "metadata": {
        "id": "XZ3SInK1jmx2",
        "colab": {
          "base_uri": "https://localhost:8080/"
        },
        "outputId": "c2fc65ba-c245-4e9d-8b91-8776f4cab600"
      },
      "source": [
        "import requests\n",
        "from lxml import html\n",
        " \n",
        "headers = {\n",
        "    \"user-agent\": \"Mozilla/5.0 (X11; Linux x86_64) AppleWebKit/537.36 (KHTML, like Gecko) Ubuntu Chromium/71.0.3578.80 Chrome/71.0.3578.80 Safari/537.36\",\n",
        "}\n",
        " \n",
        "url = \"https://es.wikipedia.org/wiki/Web_scraping\"\n",
        " \n",
        "url_web = requests.get(url)\n",
        " \n",
        "parser = html.fromstring(url_web.text)\n",
        " \n",
        "secciones = parser.xpath(\"//li[contains(@class, 'toclevel-1')]\")\n",
        "for seccion in secciones:\n",
        "  contenido = seccion.xpath(\".//span/text()\")\n",
        "  indice = contenido[0]\n",
        "  seccion = contenido[1]\n",
        "  print (indice, seccion)"
      ],
      "execution_count": 2,
      "outputs": [
        {
          "output_type": "stream",
          "name": "stdout",
          "text": [
            "1 Técnicas\n",
            "2 Cuestiones legales\n",
            "3 Medidas para detener a los \n",
            "4 Beneficios\n",
            "5 Herramientas notables\n",
            "6 Véase también\n",
            "7 Referencias\n"
          ]
        }
      ]
    },
    {
      "cell_type": "markdown",
      "metadata": {
        "id": "vXhYg4apNil9"
      },
      "source": [
        "**Exercício 2:** \n",
        "A PyCEPCorreios utiliza por padrão de consulta a API provida pelo serviço ApiCEP. Para utilização de outros serviços, devemos indica o serviço desejado ao chamar a função get_address_from_cep. O CEP sempre deve ser uma string e pode ou não conter pontuação.\n",
        "\n",
        "\n",
        "*   Faça um programa que use o pycep;\n",
        "*   Receba via input \"Digite o o cep com 8 dígitos\";\n",
        "*   Mostrar a registro recuperado.\n",
        "\n"
      ]
    },
    {
      "cell_type": "code",
      "metadata": {
        "id": "3DAJn333jnnL",
        "colab": {
          "base_uri": "https://localhost:8080/"
        },
        "outputId": "c0719904-3d02-4531-a637-3aef0ffe3902"
      },
      "source": [
        "!pip install pycep-correios\n",
        "\n",
        "from pycep_correios import get_address_from_cep, WebService\n",
        "\n",
        "cep = int(input(\"Digite um o cep com 8 dígitos: \"))\n",
        "\n",
        "address = get_address_from_cep(str(cep), webservice=WebService.APICEP)\n",
        "\n",
        "print ('\\n')\n",
        "\n",
        "address"
      ],
      "execution_count": 26,
      "outputs": [
        {
          "output_type": "stream",
          "name": "stdout",
          "text": [
            "Requirement already satisfied: pycep-correios in /usr/local/lib/python3.7/dist-packages (5.0.0)\n",
            "Requirement already satisfied: requests>=2.7.0 in /usr/local/lib/python3.7/dist-packages (from pycep-correios) (2.23.0)\n",
            "Requirement already satisfied: zeep>=2.0.0 in /usr/local/lib/python3.7/dist-packages (from pycep-correios) (4.1.0)\n",
            "Requirement already satisfied: urllib3!=1.25.0,!=1.25.1,<1.26,>=1.21.1 in /usr/local/lib/python3.7/dist-packages (from requests>=2.7.0->pycep-correios) (1.24.3)\n",
            "Requirement already satisfied: certifi>=2017.4.17 in /usr/local/lib/python3.7/dist-packages (from requests>=2.7.0->pycep-correios) (2021.5.30)\n",
            "Requirement already satisfied: chardet<4,>=3.0.2 in /usr/local/lib/python3.7/dist-packages (from requests>=2.7.0->pycep-correios) (3.0.4)\n",
            "Requirement already satisfied: idna<3,>=2.5 in /usr/local/lib/python3.7/dist-packages (from requests>=2.7.0->pycep-correios) (2.10)\n",
            "Requirement already satisfied: requests-file>=1.5.1 in /usr/local/lib/python3.7/dist-packages (from zeep>=2.0.0->pycep-correios) (1.5.1)\n",
            "Requirement already satisfied: attrs>=17.2.0 in /usr/local/lib/python3.7/dist-packages (from zeep>=2.0.0->pycep-correios) (21.2.0)\n",
            "Requirement already satisfied: platformdirs>=1.4.0 in /usr/local/lib/python3.7/dist-packages (from zeep>=2.0.0->pycep-correios) (2.4.0)\n",
            "Requirement already satisfied: lxml>=4.6.0 in /usr/local/lib/python3.7/dist-packages (from zeep>=2.0.0->pycep-correios) (4.6.3)\n",
            "Requirement already satisfied: pytz in /usr/local/lib/python3.7/dist-packages (from zeep>=2.0.0->pycep-correios) (2018.9)\n",
            "Requirement already satisfied: isodate>=0.5.4 in /usr/local/lib/python3.7/dist-packages (from zeep>=2.0.0->pycep-correios) (0.6.0)\n",
            "Requirement already satisfied: requests-toolbelt>=0.7.1 in /usr/local/lib/python3.7/dist-packages (from zeep>=2.0.0->pycep-correios) (0.9.1)\n",
            "Requirement already satisfied: cached-property>=1.3.0 in /usr/local/lib/python3.7/dist-packages (from zeep>=2.0.0->pycep-correios) (1.5.2)\n",
            "Requirement already satisfied: six in /usr/local/lib/python3.7/dist-packages (from isodate>=0.5.4->zeep>=2.0.0->pycep-correios) (1.15.0)\n",
            "Digite um o cep com 8 dígitos: 50050390\n",
            "\n",
            "\n"
          ]
        },
        {
          "output_type": "execute_result",
          "data": {
            "text/plain": [
              "{'bairro': 'Soledade',\n",
              " 'cep': '50050-390',\n",
              " 'cidade': 'Recife',\n",
              " 'complemento': '',\n",
              " 'logradouro': 'Avenida Oliveira Lima',\n",
              " 'uf': 'PE'}"
            ]
          },
          "metadata": {},
          "execution_count": 26
        }
      ]
    },
    {
      "cell_type": "markdown",
      "metadata": {
        "id": "-hm9lQJEQM1n"
      },
      "source": [
        "**Exercício 3:** Calcular o fatorial\n",
        "*   Faça um programa capaz calcular o fatorial de um determinado número; \n",
        "*   Receba via input \"Digite um número para calcular seu fatorial\";\n",
        "*   Mostrar o valor que corresponde ao número informado."
      ]
    },
    {
      "cell_type": "code",
      "metadata": {
        "colab": {
          "base_uri": "https://localhost:8080/"
        },
        "id": "7BjV3J2uOJHh",
        "outputId": "361bce73-9ac5-43bf-bfbf-ea7ef630dd7e"
      },
      "source": [
        "def fatorial(numero):\n",
        "    if numero == 0 or numero == 1:\n",
        "        return 1\n",
        "    else:\n",
        "        return numero * fatorial(numero -1)\n",
        "\n",
        "x = int(input('Digite um número para calcular seu fatorial: '))\n",
        "resultado = fatorial(x)\n",
        "print(resultado)"
      ],
      "execution_count": 28,
      "outputs": [
        {
          "output_type": "stream",
          "name": "stdout",
          "text": [
            "Digite um número para calcular seu fatorial: 4\n",
            "24\n"
          ]
        }
      ]
    },
    {
      "cell_type": "code",
      "metadata": {
        "id": "lD-Sdq16QN0I"
      },
      "source": [
        ""
      ],
      "execution_count": null,
      "outputs": []
    }
  ]
}