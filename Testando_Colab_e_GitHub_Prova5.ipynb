{
  "nbformat": 4,
  "nbformat_minor": 0,
  "metadata": {
    "colab": {
      "name": "Testando_Colab_e_GitHub_Prova5.ipynb",
      "provenance": []
    },
    "kernelspec": {
      "name": "python3",
      "display_name": "Python 3"
    },
    "language_info": {
      "name": "python"
    }
  },
  "cells": [
    {
      "cell_type": "markdown",
      "metadata": {
        "id": "0OBMsFNJEg2l"
      },
      "source": [
        "**Exercício 1:** Trabalhando com estrutura de dados:\n",
        "*   A partir da lista fruits = ['orange', 'apple', 'pear', 'banana', 'kiwi', 'apple', 'banana']\n",
        "*   mostrar a quantidade de maças\n",
        "*   mostrar a quantidade de tangerina\n",
        "*   mostrar a quantidade de bananas\n",
        "*   mostrar a posição da banana a partir da posição 4\n",
        "*   mostrar a a lista de frutas invertida\n",
        "*   incluir uva e mostrar a nova lista\n",
        "*   classificar e mostar a lista ordenada\n",
        "*   remover o último integrante da lista\n"
      ]
    },
    {
      "cell_type": "code",
      "metadata": {
        "colab": {
          "base_uri": "https://localhost:8080/",
          "height": 157
        },
        "id": "-Sw888OkDhHQ",
        "outputId": "047382b6-29ed-4877-886b-6f89156abbc7"
      },
      "source": [
        "fruits = ['orange', 'apple', 'pear', 'banana', 'kiwi', 'apple', 'banana']\n",
        "\n",
        "print (fruits.count('apple'))\n",
        "\n",
        "print (fruits.count('tangerine'))\n",
        "\n",
        "print (fruits.index('banana'))\n",
        "\n",
        "print (fruits.index('banana', 4))\n",
        "\n",
        "fruits.reverse()\n",
        "print (fruits)\n",
        "\n",
        "fruits.append('grape')\n",
        "print (fruits)\n",
        "\n",
        "fruits.sort()\n",
        "print (fruits)\n",
        "\n",
        "fruits.pop()"
      ],
      "execution_count": 19,
      "outputs": [
        {
          "output_type": "stream",
          "name": "stdout",
          "text": [
            "2\n",
            "0\n",
            "3\n",
            "6\n",
            "['banana', 'apple', 'kiwi', 'banana', 'pear', 'apple', 'orange']\n",
            "['banana', 'apple', 'kiwi', 'banana', 'pear', 'apple', 'orange', 'grape']\n",
            "['apple', 'apple', 'banana', 'banana', 'grape', 'kiwi', 'orange', 'pear']\n"
          ]
        },
        {
          "output_type": "execute_result",
          "data": {
            "application/vnd.google.colaboratory.intrinsic+json": {
              "type": "string"
            },
            "text/plain": [
              "'pear'"
            ]
          },
          "metadata": {},
          "execution_count": 19
        }
      ]
    },
    {
      "cell_type": "markdown",
      "metadata": {
        "id": "LMjt1huDGv-Q"
      },
      "source": [
        "**Exercício 2:** Usando listas como filas\n",
        "*   A partir da fila deque([\"Eric\", \"John\", \"Michael\"])\n",
        "*   incluir terry\n",
        "*   incluir Graham\n",
        "*   deletar o primeiro que entrou\n",
        "*   deletar o segundo que entrou\n",
        "*   mostrar como ficou a fila"
      ]
    },
    {
      "cell_type": "code",
      "metadata": {
        "colab": {
          "base_uri": "https://localhost:8080/"
        },
        "id": "SDwuIkd1GPvP",
        "outputId": "223f2973-bed1-4ef0-ada2-da9791c96c1f"
      },
      "source": [
        "from collections import deque\n",
        "queue = deque([\"Eric\", \"John\", \"Michael\"])\n",
        "print (queue)\n",
        "queue.append(\"Terry\")\n",
        "print (queue)\n",
        "queue.append(\"Graham\")\n",
        "print (queue)\n",
        "queue.popleft()\n",
        "print (queue)\n",
        "queue.popleft()\n",
        "print (queue)"
      ],
      "execution_count": 20,
      "outputs": [
        {
          "output_type": "stream",
          "name": "stdout",
          "text": [
            "deque(['Eric', 'John', 'Michael'])\n",
            "deque(['Eric', 'John', 'Michael', 'Terry'])\n",
            "deque(['Eric', 'John', 'Michael', 'Terry', 'Graham'])\n",
            "deque(['John', 'Michael', 'Terry', 'Graham'])\n",
            "deque(['Michael', 'Terry', 'Graham'])\n"
          ]
        }
      ]
    }
  ]
}