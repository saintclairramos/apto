{
  "nbformat": 4,
  "nbformat_minor": 0,
  "metadata": {
    "colab": {
      "name": "Testando_Colab_e_GitHub_Prova7.ipynb",
      "provenance": []
    },
    "kernelspec": {
      "name": "python3",
      "display_name": "Python 3"
    },
    "language_info": {
      "name": "python"
    }
  },
  "cells": [
    {
      "cell_type": "markdown",
      "metadata": {
        "id": "yNH3fB49NBqT"
      },
      "source": [
        "**Exercício 1:** Trabalhando com Dataframe:\n",
        "---\n",
        "A partir dos dados abaixo:\n",
        "> *   df1 'Nome': ['João', 'Maria']\n",
        "> *   df1 'Idade': [14, 15]\n",
        "> *   df2 'Nome': ['Pedro', 'Mariana']\n",
        "> *   df2 'Idade': [10, 13]\n",
        "\n",
        "*   Criar dois dataframes\n",
        "*   Mostrar dataframes originais\n",
        "*   Concatenar os dataframes\n",
        "*   Mostrar o resultado da concatenação\n"
      ]
    },
    {
      "cell_type": "code",
      "metadata": {
        "id": "vNWMGUS3JRTf",
        "colab": {
          "base_uri": "https://localhost:8080/"
        },
        "outputId": "d2e30304-98c2-4c72-f445-16655a3229c3"
      },
      "source": [
        "import pandas as pd\n",
        "\n",
        "df1 = pd.DataFrame({'Nome': ['João', 'Maria'], 'Idade': [14, 15]})\n",
        "df2 = pd.DataFrame({'Nome': ['Pedro', 'Mariana'], 'Idade': [10, 13]})\n",
        "\n",
        "print(\"DataFrame df1:\\n\")\n",
        "print(df1)\n",
        "print(\"\\nDataFrame df2:\\n\")\n",
        "print(df2)\n",
        "\n",
        "df_combined = pd.concat([df1, df2])\n",
        "\n",
        "print(\"\\nDataFrame COncatenado:\\n\", df_combined)"
      ],
      "execution_count": 1,
      "outputs": [
        {
          "output_type": "stream",
          "name": "stdout",
          "text": [
            "DataFrame df1:\n",
            "\n",
            "    Nome  Idade\n",
            "0   João     14\n",
            "1  Maria     15\n",
            "\n",
            "DataFrame df2:\n",
            "\n",
            "      Nome  Idade\n",
            "0    Pedro     10\n",
            "1  Mariana     13\n",
            "\n",
            "DataFrame COncatenado:\n",
            "       Nome  Idade\n",
            "0     João     14\n",
            "1    Maria     15\n",
            "0    Pedro     10\n",
            "1  Mariana     13\n"
          ]
        }
      ]
    },
    {
      "cell_type": "markdown",
      "metadata": {
        "id": "UKrrUjsgPU7o"
      },
      "source": [
        "**Exercício 2:** Trabalhando com pyplot:\n",
        "---\n",
        "A partir dos valores\n",
        "> *   valores_produto_A = [6,7,8,4,4]\n",
        "> *   valores_produto_B = [3,12,3,4.1,6]\n",
        "> *   meses = ['Agosto','Setembro','Outubro','Novembro','Dezembro']\n",
        "\n",
        "*   Criar o eixo x para produto A e produto B com uma separação de 0.25 entre as barras\n",
        "*   O título do gráfico de barras é \"Quantidade de Vendas\"\n"
      ]
    },
    {
      "cell_type": "code",
      "metadata": {
        "id": "Brq6pBZPRH_b",
        "colab": {
          "base_uri": "https://localhost:8080/",
          "height": 281
        },
        "outputId": "fde0da24-24c5-4f35-f275-b877eaeb254d"
      },
      "source": [
        "import numpy as np\n",
        "\n",
        "#Importando o pyplot\n",
        "from matplotlib import pyplot as plt\n",
        "\n",
        "# Quantidade de vendas para o Produto A\n",
        "valores_produto_A = [6,7,8,4,4]\n",
        "\n",
        "# Quantidade de vendas para o Produto B\n",
        "valores_produto_B = [3,12,3,4.1,6]\n",
        "\n",
        "# Cria eixo x para produto A e produto B com uma separação de 0.25 entre as barras\n",
        "x1 =  np.arange(len(valores_produto_A))\n",
        "x2 = [x + 0.25 for x in x1]\n",
        "\n",
        "# Plota as barras\n",
        "plt.bar(x1, valores_produto_A, width=0.25, label = 'Produto A', color = 'b')\n",
        "plt.bar(x2, valores_produto_B, width=0.25, label = 'Produto B', color = 'y')\n",
        "\n",
        "# coloca o nome dos meses como label do eixo x\n",
        "meses = ['Agosto','Setembro','Outubro','Novembro','Dezembro']\n",
        "plt.xticks([x + 0.25 for x in range(len(valores_produto_A))], meses)\n",
        "\n",
        "# inseri uma legenda no gráfico\n",
        "plt.legend()\n",
        "\n",
        "plt.title(\"Quantidade de Vendas\")\n",
        "plt.show()"
      ],
      "execution_count": 2,
      "outputs": [
        {
          "output_type": "display_data",
          "data": {
            "image/png": "[encoded data removed]",
            "text/plain": [
              "<Figure size 432x288 with 1 Axes>"
            ]
          },
          "metadata": {
            "needs_background": "light"
          }
        }
      ]
    },
    {
      "cell_type": "code",
      "metadata": {
        "id": "BEIhW7tXdVzK"
      },
      "source": [
        ""
      ],
      "execution_count": 2,
      "outputs": []
    }
  ]
}