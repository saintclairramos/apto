{
  "nbformat": 4,
  "nbformat_minor": 0,
  "metadata": {
    "colab": {
      "name": "Testando_Colab_e_GitHub_Prova5 Perguntas.ipynb",
      "provenance": []
    },
    "kernelspec": {
      "name": "python3",
      "display_name": "Python 3"
    },
    "language_info": {
      "name": "python"
    }
  },
  "cells": [
    {
      "cell_type": "markdown",
      "metadata": {
        "id": "u07RarspIZgF"
      },
      "source": [
        "**Exercício 1:** Trabalhando com estrutura de dados:\n",
        "*   A partir da lista fruits = ['orange', 'apple', 'pear', 'banana', 'kiwi', 'apple', 'banana']\n",
        "*   mostrar a quantidade de maças\n",
        "*   mostrar a quantidade de tangerina\n",
        "*   mostrar a quantidade de bananas\n",
        "*   mostrar a posição da banana a partir da posição 4\n",
        "*   mostrar a a lista de frutas invertida\n",
        "*   incluir uva e mostrar a nova lista\n",
        "*   classificar e mostar a lista ordenada\n",
        "*   remover o último integrante da lista\n"
      ]
    },
    {
      "cell_type": "code",
      "metadata": {
        "id": "-Sw888OkDhHQ"
      },
      "source": [
        ""
      ],
      "execution_count": null,
      "outputs": []
    },
    {
      "cell_type": "markdown",
      "metadata": {
        "id": "LMjt1huDGv-Q"
      },
      "source": [
        "**Exercício 2:** Usando listas como filas\n",
        "*   A partir da fila deque([\"Eric\", \"John\", \"Michael\"])\n",
        "*   incluir terry\n",
        "*   incluir Graham\n",
        "*   deletar o primeiro que entrou\n",
        "*   deletar o segundo que entrou\n",
        "*   mostrar como ficou a fila"
      ]
    },
    {
      "cell_type": "code",
      "metadata": {
        "id": "SDwuIkd1GPvP"
      },
      "source": [
        ""
      ],
      "execution_count": null,
      "outputs": []
    }
  ]
}