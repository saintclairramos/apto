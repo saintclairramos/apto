{
  "nbformat": 4,
  "nbformat_minor": 0,
  "metadata": {
    "colab": {
      "name": "Testando_Colab_e_GitHub_Prova1.ipynb",
      "provenance": []
    },
    "kernelspec": {
      "name": "python3",
      "display_name": "Python 3"
    },
    "language_info": {
      "name": "python"
    }
  },
  "cells": [
    {
      "cell_type": "markdown",
      "metadata": {
        "id": "wCxHrqaEDRwT"
      },
      "source": [
        "**Exercício 1:** Criar array com 10 elementos iguais a 0"
      ]
    },
    {
      "cell_type": "code",
      "metadata": {
        "colab": {
          "base_uri": "https://localhost:8080/"
        },
        "id": "e4MNYq9X-ywJ",
        "outputId": "39505c2e-caf6-4d44-8c2a-d81b73f69e1f"
      },
      "source": [
        "import numpy as np\n",
        "print(np.zeros(10))"
      ],
      "execution_count": 2,
      "outputs": [
        {
          "output_type": "stream",
          "name": "stdout",
          "text": [
            "[0. 0. 0. 0. 0. 0. 0. 0. 0. 0.]\n"
          ]
        }
      ]
    },
    {
      "cell_type": "markdown",
      "metadata": {
        "id": "ic1xPze0Dfp9"
      },
      "source": [
        "**Exercício 2:** Criar array com 15 elementos iguais a 1"
      ]
    },
    {
      "cell_type": "code",
      "metadata": {
        "colab": {
          "base_uri": "https://localhost:8080/"
        },
        "id": "c0rUKFjo-zu2",
        "outputId": "9d57ccac-4254-4e53-f638-0e24090894ca"
      },
      "source": [
        "print(np.ones(15))"
      ],
      "execution_count": 4,
      "outputs": [
        {
          "output_type": "stream",
          "name": "stdout",
          "text": [
            "[1. 1. 1. 1. 1. 1. 1. 1. 1. 1. 1. 1. 1. 1. 1.]\n"
          ]
        }
      ]
    },
    {
      "cell_type": "markdown",
      "metadata": {
        "id": "mvmHnRSlDoic"
      },
      "source": [
        "**Exercício 3:** Array com os números pares de 50 até 1, com intervalo de contagem de 2."
      ]
    },
    {
      "cell_type": "code",
      "metadata": {
        "colab": {
          "base_uri": "https://localhost:8080/"
        },
        "id": "h_GaqvkNBFSY",
        "outputId": "71bfea6f-94f9-4e2f-f9da-32bf8be4f41d"
      },
      "source": [
        "print(np.arange(30, 1, -2))"
      ],
      "execution_count": 6,
      "outputs": [
        {
          "output_type": "stream",
          "name": "stdout",
          "text": [
            "[30 28 26 24 22 20 18 16 14 12 10  8  6  4  2]\n"
          ]
        }
      ]
    },
    {
      "cell_type": "markdown",
      "metadata": {
        "id": "ddyQT-iBFNV3"
      },
      "source": [
        "**Exercício 4:** Array bidimensional 10x10 com números aleatórios inteiros entre 1 e 100"
      ]
    },
    {
      "cell_type": "code",
      "metadata": {
        "colab": {
          "base_uri": "https://localhost:8080/"
        },
        "id": "w1QHoeZIBFX1",
        "outputId": "c524c67e-e9bf-4a12-c1b3-a0e11f21a057"
      },
      "source": [
        "d = np.random.randint(1,101,size=(10,10))\n",
        "print(d)"
      ],
      "execution_count": 8,
      "outputs": [
        {
          "output_type": "stream",
          "name": "stdout",
          "text": [
            "[[ 19  68  12  10  24  84  95  36   3  15]\n",
            " [ 61  12  75  24  16  69  45  72  24  77]\n",
            " [ 45  10   5  51  31  79   9  65  73  96]\n",
            " [ 93  58  63  68  56  55  59  77  68  76]\n",
            " [ 89   2  97  68  57  25   4  22  36  14]\n",
            " [ 37  35  82  12  89  88  59  56  61  98]\n",
            " [ 46  66   3  87  88  66  12  56 100  91]\n",
            " [ 89  82  50  32  86  28  96  45  59  23]\n",
            " [  3  95  59  49  36  39  89  15  14  96]\n",
            " [ 30  95   4  38  38  65  39  52  31  17]]\n"
          ]
        }
      ]
    },
    {
      "cell_type": "markdown",
      "metadata": {
        "id": "HRvgQHYXJnSb"
      },
      "source": [
        "**Exercício 5:** A série de Fibonacci é formada pela seqüência 1,1,2,3,5,8,13,21,34,55,... \n",
        "\n",
        "\n",
        "*   Faça um programa capaz de gerar a série até o n−ésimo termo; \n",
        "*   Receba via input \"Digite o termo desejado\";\n",
        "*   Mostrar o valor que corresponde ao termo informado.\n"
      ]
    },
    {
      "cell_type": "code",
      "metadata": {
        "colab": {
          "base_uri": "https://localhost:8080/"
        },
        "id": "I9mvqqF7J0-k",
        "outputId": "497c0140-19a2-42b0-c5a2-87237cbf156a"
      },
      "source": [
        "n = int(input(\"Que termo deseja encontrar: \"))\n",
        "ultimo=1\n",
        "penultimo=1\n",
        "\n",
        "if (n==1) or (n==2):\n",
        "    print(\"1\")\n",
        "else:\n",
        "    count=3\n",
        "    while count <= n:\n",
        "        termo = ultimo + penultimo\n",
        "        penultimo = ultimo\n",
        "        ultimo = termo\n",
        "        count += 1\n",
        "    print(termo)"
      ],
      "execution_count": 17,
      "outputs": [
        {
          "output_type": "stream",
          "name": "stdout",
          "text": [
            "Que termo deseja encontrar: 10\n",
            "55\n"
          ]
        }
      ]
    },
    {
      "cell_type": "markdown",
      "metadata": {
        "id": "d9z5N6WNLqad"
      },
      "source": [
        "**Exercício 6:** Um número primo é aquele que é dividido apenas por um e por ele mesmo. Entre 0 e 100 existem apenas 25 números primos.\n",
        "\n",
        "*   Receba via input \"Digite um número\";\n",
        "*   Mostrar com \"True\" ou \"False\" se o número informado é primo.\n"
      ]
    },
    {
      "cell_type": "code",
      "metadata": {
        "colab": {
          "base_uri": "https://localhost:8080/"
        },
        "id": "Qi9TTWc6LpXG",
        "outputId": "4fb8d56a-3215-4bd1-f282-1449bd0317e1"
      },
      "source": [
        "def primo(n):\n",
        "    for val in range(2,n):\n",
        "        if n % val == 0:\n",
        "            return False\n",
        "    return True\n",
        "n = int(input(\"Digite um número: \"))\n",
        "primo (n)"
      ],
      "execution_count": 25,
      "outputs": [
        {
          "name": "stdout",
          "output_type": "stream",
          "text": [
            "Digite um número: 13\n"
          ]
        },
        {
          "output_type": "execute_result",
          "data": {
            "text/plain": [
              "True"
            ]
          },
          "metadata": {},
          "execution_count": 25
        }
      ]
    }
  ]
}