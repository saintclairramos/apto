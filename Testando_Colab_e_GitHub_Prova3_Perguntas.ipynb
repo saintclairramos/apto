{
  "nbformat": 4,
  "nbformat_minor": 0,
  "metadata": {
    "colab": {
      "name": "Testando_Colab_e_GitHub_Prova3 Perguntas.ipynb",
      "provenance": [],
      "collapsed_sections": []
    },
    "kernelspec": {
      "name": "python3",
      "display_name": "Python 3"
    },
    "language_info": {
      "name": "python"
    }
  },
  "cells": [
    {
      "cell_type": "markdown",
      "metadata": {
        "id": "oI2DosoAT3sC"
      },
      "source": [
        "**Exercício 1:** Elaborar um algoritmo quicksort\n",
        "*   Classificar uma lista, por exemplo [54,26,93,17,77,31,44,55,20]\n",
        "*   Mostar a lista classificada"
      ]
    },
    {
      "cell_type": "code",
      "metadata": {
        "id": "32R1b4rjT271"
      },
      "source": [
        ""
      ],
      "execution_count": null,
      "outputs": []
    },
    {
      "cell_type": "markdown",
      "metadata": {
        "id": "wCxHrqaEDRwT"
      },
      "source": [
        "**Exercício 2:** Criar um gráfico de barra utilizando plotly\n",
        "*   O eixo das  abcissa são as frutas Banana, Maçã e Uva\n",
        "*   O eixo das ordenadas são as quatidades;\n",
        "*   As quantidades estão dispostas de 3 em 3: as 3 primeiras são para janeiro, a 3 próximas para fevereiro e as 3 últimas para o mês de março\n",
        "> qtde = [54,26,93,17,77,31,44,55,20]\n",
        "*   Criar um único gráfico com os 3 meses."
      ]
    },
    {
      "cell_type": "code",
      "metadata": {
        "id": "e4MNYq9X-ywJ"
      },
      "source": [
        ""
      ],
      "execution_count": null,
      "outputs": []
    }
  ]
}