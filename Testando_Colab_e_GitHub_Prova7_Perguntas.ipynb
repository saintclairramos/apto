{
  "nbformat": 4,
  "nbformat_minor": 0,
  "metadata": {
    "colab": {
      "name": "Testando_Colab_e_GitHub_Prova7 Perguntas.ipynb",
      "provenance": []
    },
    "kernelspec": {
      "name": "python3",
      "display_name": "Python 3"
    },
    "language_info": {
      "name": "python"
    }
  },
  "cells": [
    {
      "cell_type": "markdown",
      "metadata": {
        "id": "yNH3fB49NBqT"
      },
      "source": [
        "**Exercício 1:** Trabalhando com Dataframe:\n",
        "---\n",
        "A partir dos dados abaixo:\n",
        "> *   df1 'Nome': ['João', 'Maria']\n",
        "> *   df1 'Idade': [14, 15]\n",
        "> *   df2 'Nome': ['Pedro', 'Mariana']\n",
        "> *   df2 'Idade': [10, 13]\n",
        "\n",
        "*   Criar dois dataframes\n",
        "*   Mostrar dataframes originais\n",
        "*   Concatenar os dataframes\n",
        "*   Mostrar o resultado da concatenação\n"
      ]
    },
    {
      "cell_type": "code",
      "metadata": {
        "id": "vNWMGUS3JRTf"
      },
      "source": [
        ""
      ],
      "execution_count": null,
      "outputs": []
    },
    {
      "cell_type": "markdown",
      "metadata": {
        "id": "UKrrUjsgPU7o"
      },
      "source": [
        "**Exercício 2:** Trabalhando com pyplot:\n",
        "---\n",
        "A partir dos valores\n",
        "> *   valores_produto_A = [6,7,8,4,4]\n",
        "> *   valores_produto_B = [3,12,3,4.1,6]\n",
        "> *   meses = ['Agosto','Setembro','Outubro','Novembro','Dezembro']\n",
        "\n",
        "*   Criar o eixo x para produto A e produto B com uma separação de 0.25 entre as barras\n",
        "*   O título do gráfico de barras é \"Quantidade de Vendas\"\n"
      ]
    },
    {
      "cell_type": "code",
      "metadata": {
        "id": "Brq6pBZPRH_b"
      },
      "source": [
        ""
      ],
      "execution_count": null,
      "outputs": []
    }
  ]
}