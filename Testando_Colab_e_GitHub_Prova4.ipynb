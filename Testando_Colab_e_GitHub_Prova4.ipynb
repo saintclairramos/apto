{
  "nbformat": 4,
  "nbformat_minor": 0,
  "metadata": {
    "colab": {
      "name": "Testando_Colab_e_GitHub_Prova4.ipynb",
      "provenance": [],
      "collapsed_sections": []
    },
    "kernelspec": {
      "name": "python3",
      "display_name": "Python 3"
    },
    "language_info": {
      "name": "python"
    }
  },
  "cells": [
    {
      "cell_type": "markdown",
      "metadata": {
        "id": "s9OVoeW6LNQG"
      },
      "source": [
        "**Exercício 1:** Verificação do CPF\n",
        "*   Faça um programa capaz identificar o cpf está correto; \n",
        "*   Receba via input \"Digite um número no formato 999.999.999-99\";\n",
        "*   Mostrar \"True\" ou \"False\"."
      ]
    },
    {
      "cell_type": "code",
      "metadata": {
        "id": "XZ3SInK1jmx2",
        "colab": {
          "base_uri": "https://localhost:8080/"
        },
        "outputId": "620220dd-16ad-4ec3-a06a-45c9178e0b1f"
      },
      "source": [
        "import re\n",
        "def validate(cpf: str) -> bool:\n",
        "\n",
        "    \"\"\" Efetua a validação do CPF, tanto formatação quando dígito verificadores.\n",
        "\n",
        "    Parâmetros:\n",
        "        cpf (str): CPF a ser validado\n",
        "\n",
        "    Retorno:\n",
        "        bool:\n",
        "            - Falso, quando o CPF não possuir o formato 999.999.999-99;\n",
        "            - Falso, quando o CPF não possuir 11 caracteres numéricos;\n",
        "            - Falso, quando os dígitos verificadores forem inválidos;\n",
        "            - Verdadeiro, caso contrário.\n",
        "\n",
        "    Exemplos:\n",
        "\n",
        "    >>> validate('529.982.247-25')\n",
        "    True\n",
        "    >>> validate('52998224725')\n",
        "    False\n",
        "    >>> validate('111.111.111-11')\n",
        "    False\n",
        "    \"\"\"\n",
        "\n",
        "    # Verifica a formatação do CPF\n",
        "    if not re.match(r'\\d{3}\\.\\d{3}\\.\\d{3}-\\d{2}', cpf):\n",
        "        return False\n",
        "\n",
        "    # Obtém apenas os números do CPF, ignorando pontuações\n",
        "    numbers = [int(digit) for digit in cpf if digit.isdigit()]\n",
        "\n",
        "    # Verifica se o CPF possui 11 números ou se todos são iguais:\n",
        "    if len(numbers) != 11 or len(set(numbers)) == 1:\n",
        "        return False\n",
        "\n",
        "    # Validação do primeiro dígito verificador:\n",
        "    sum_of_products = sum(a*b for a, b in zip(numbers[0:9], range(10, 1, -1)))\n",
        "    expected_digit = (sum_of_products * 10 % 11) % 10\n",
        "    if numbers[9] != expected_digit:\n",
        "        return False\n",
        "\n",
        "    # Validação do segundo dígito verificador:\n",
        "    sum_of_products = sum(a*b for a, b in zip(numbers[0:10], range(11, 1, -1)))\n",
        "    expected_digit = (sum_of_products * 10 % 11) % 10\n",
        "    if numbers[10] != expected_digit:\n",
        "        return False\n",
        "\n",
        "    return True\n",
        "cpf = str(input(\"Digite um número no formato 999.999.999-99: \"))\n",
        "print (validate(str(cpf)))"
      ],
      "execution_count": 7,
      "outputs": [
        {
          "output_type": "stream",
          "name": "stdout",
          "text": [
            "Digite um número no formato 999.999.999-99: 339.600.894-49\n",
            "True\n",
            "True\n",
            "True\n",
            "False\n"
          ]
        }
      ]
    },
    {
      "cell_type": "markdown",
      "metadata": {
        "id": "vXhYg4apNil9"
      },
      "source": [
        "**Exercício 2:** Organizar números inteiros no modo crescente.\n",
        "*   Fazer Um script simples para organizar números inteiros no modo crescente.\n",
        "*   Receba via input Digite os números a serem organizados, para transcreve-los digite T"
      ]
    },
    {
      "cell_type": "code",
      "metadata": {
        "id": "3DAJn333jnnL",
        "colab": {
          "base_uri": "https://localhost:8080/"
        },
        "outputId": "dc0e0c32-6e41-4096-d5dd-aa5a6e94bcea"
      },
      "source": [
        "orgn = []\n",
        "n1 = input(\"Digite os números a serem organizados, para transcreve-los digite T: \")\n",
        "x = 1\n",
        "\n",
        "while n1 != \"T\":\n",
        "   if x <= 2:\n",
        "      orgn.append(n1)\n",
        "      x+=1\n",
        "      if n1 != \"T\":\n",
        "         n1 = input(\"\")\n",
        "         x-=1\n",
        "if n1 is \"T\":\n",
        "   orgn.sort(key=int)\n",
        "   print(orgn)"
      ],
      "execution_count": 8,
      "outputs": [
        {
          "output_type": "stream",
          "name": "stdout",
          "text": [
            "Digite os números a serem organizados, para transcreve-los digite T: 9\n",
            "1\n",
            "8\n",
            "6\n",
            "T\n",
            "['1', '6', '8', '9']\n"
          ]
        }
      ]
    },
    {
      "cell_type": "code",
      "metadata": {
        "id": "lD-Sdq16QN0I"
      },
      "source": [
        ""
      ],
      "execution_count": null,
      "outputs": []
    }
  ]
}