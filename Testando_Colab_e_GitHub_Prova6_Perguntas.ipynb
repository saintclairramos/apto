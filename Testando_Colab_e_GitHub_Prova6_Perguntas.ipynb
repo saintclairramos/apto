{
  "nbformat": 4,
  "nbformat_minor": 0,
  "metadata": {
    "colab": {
      "name": "Testando_Colab_e_GitHub_Prova6 Perguntas.ipynb",
      "provenance": []
    },
    "kernelspec": {
      "name": "python3",
      "display_name": "Python 3"
    },
    "language_info": {
      "name": "python"
    }
  },
  "cells": [
    {
      "cell_type": "markdown",
      "metadata": {
        "id": "yNH3fB49NBqT"
      },
      "source": [
        "**Exercício 1:** Trabalhando com pandas:\n",
        "---\n",
        "Crie um DataFrame que tenha 3 colunas 2 duas linhas:\n",
        "Produto | Quantidade | Preço.\n",
        "\n",
        "*   primeira linha: Chocolate | 200 | 3,00\n",
        "*   segunda linha os valores: Banana | 80 | 0,5o"
      ]
    },
    {
      "cell_type": "code",
      "metadata": {
        "id": "vNWMGUS3JRTf"
      },
      "source": [
        ""
      ],
      "execution_count": null,
      "outputs": []
    },
    {
      "cell_type": "markdown",
      "metadata": {
        "id": "UKrrUjsgPU7o"
      },
      "source": [
        "**Exercício 2:** Trabalhando com Dataframe:\n",
        "---\n",
        "A partir das notas\n",
        "> *   'História': [76, 84, 68, 94],\n",
        "> *   'Matemática': [81, 67, 91, 86],\n",
        "> *   'Inglês': [72, 93, 84, 76]\n",
        "\n",
        "*   Criar um dataframe\n",
        "*   Mostrar o dataframe original\n",
        "*   Calcula a média de cada disciplina\n",
        "*   Mostrar as médias calculadas\n"
      ]
    },
    {
      "cell_type": "code",
      "metadata": {
        "id": "Brq6pBZPRH_b"
      },
      "source": [
        ""
      ],
      "execution_count": null,
      "outputs": []
    }
  ]
}