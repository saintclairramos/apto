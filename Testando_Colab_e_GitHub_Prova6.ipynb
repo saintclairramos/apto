{
  "nbformat": 4,
  "nbformat_minor": 0,
  "metadata": {
    "colab": {
      "name": "Testando_Colab_e_GitHub_Prova6.ipynb",
      "provenance": []
    },
    "kernelspec": {
      "name": "python3",
      "display_name": "Python 3"
    },
    "language_info": {
      "name": "python"
    }
  },
  "cells": [
    {
      "cell_type": "markdown",
      "metadata": {
        "id": "yNH3fB49NBqT"
      },
      "source": [
        "**Exercício 1:** Trabalhando com pandas:\n",
        "---\n",
        "Crie um DataFrame que tenha 3 colunas 2 duas linhas:\n",
        "Produto | Quantidade | Preço.\n",
        "\n",
        "*   primeira linha: Chocolate | 200 | 3,00\n",
        "*   segunda linha os valores: Banana | 80 | 0,5o"
      ]
    },
    {
      "cell_type": "code",
      "metadata": {
        "colab": {
          "base_uri": "https://localhost:8080/",
          "height": 112
        },
        "id": "vNWMGUS3JRTf",
        "outputId": "5df35da9-8652-464a-e401-8a02aa297c7c"
      },
      "source": [
        "import pandas as pd\n",
        "\n",
        "pd.DataFrame({'Sim':[10,15], 'Nao':[21, 4]})\n",
        "df=pd.DataFrame({'Produto':['Chocolate','Banana'], 'Quantidade':[200,800],'Preço':[3,0.5]})\n",
        "df"
      ],
      "execution_count": null,
      "outputs": [
        {
          "output_type": "execute_result",
          "data": {
            "text/html": [
              "<div>\n",
              "<style scoped>\n",
              "    .dataframe tbody tr th:only-of-type {\n",
              "        vertical-align: middle;\n",
              "    }\n",
              "\n",
              "    .dataframe tbody tr th {\n",
              "        vertical-align: top;\n",
              "    }\n",
              "\n",
              "    .dataframe thead th {\n",
              "        text-align: right;\n",
              "    }\n",
              "</style>\n",
              "<table border=\"1\" class=\"dataframe\">\n",
              "  <thead>\n",
              "    <tr style=\"text-align: right;\">\n",
              "      <th></th>\n",
              "      <th>Produto</th>\n",
              "      <th>Quantidade</th>\n",
              "      <th>Preço</th>\n",
              "    </tr>\n",
              "  </thead>\n",
              "  <tbody>\n",
              "    <tr>\n",
              "      <th>0</th>\n",
              "      <td>Chocolate</td>\n",
              "      <td>200</td>\n",
              "      <td>3.0</td>\n",
              "    </tr>\n",
              "    <tr>\n",
              "      <th>1</th>\n",
              "      <td>Banana</td>\n",
              "      <td>800</td>\n",
              "      <td>0.5</td>\n",
              "    </tr>\n",
              "  </tbody>\n",
              "</table>\n",
              "</div>"
            ],
            "text/plain": [
              "     Produto  Quantidade  Preço\n",
              "0  Chocolate         200    3.0\n",
              "1     Banana         800    0.5"
            ]
          },
          "metadata": {},
          "execution_count": 5
        }
      ]
    },
    {
      "cell_type": "markdown",
      "metadata": {
        "id": "UKrrUjsgPU7o"
      },
      "source": [
        "**Exercício 2:** Trabalhando com Dataframe:\n",
        "---\n",
        "A partir das notas\n",
        "> *   'História': [76, 84, 68, 94],\n",
        "> *   'Matemática': [81, 67, 91, 86],\n",
        "> *   'Inglês': [72, 93, 84, 76]\n",
        "\n",
        "*   Criar um dataframe\n",
        "*   Mostrar o dataframe original\n",
        "*   Calcula a média de cada disciplina\n",
        "*   Mostrar as médias calculadas\n"
      ]
    },
    {
      "cell_type": "code",
      "metadata": {
        "colab": {
          "base_uri": "https://localhost:8080/"
        },
        "id": "Brq6pBZPRH_b",
        "outputId": "b5641c52-2b79-4feb-84f9-deef398f090b"
      },
      "source": [
        "import pandas as pd\n",
        "\n",
        "df = pd.DataFrame({\n",
        "    'História': [76, 84, 68, 94],\n",
        "    'Matemática': [81, 67, 91, 86],\n",
        "    'Inglês': [72, 93, 84, 76]\n",
        "})\n",
        "\n",
        "print(\"Dataframe original:\\n\")\n",
        "print(df)\n",
        "\n",
        "def get_mean(scores):\n",
        "    return sum(scores)/len(scores)\n",
        "\n",
        "result = df.apply(get_mean)\n",
        "print(\"\\nMédia por disciplinas:\\n\")\n",
        "print(result)"
      ],
      "execution_count": null,
      "outputs": [
        {
          "output_type": "stream",
          "name": "stdout",
          "text": [
            "Dataframe original:\n",
            "\n",
            "   História  Matemática  Inglês\n",
            "0        76          81      72\n",
            "1        84          67      93\n",
            "2        68          91      84\n",
            "3        94          86      76\n",
            "\n",
            "Média por disciplinas:\n",
            "\n",
            "História      80.50\n",
            "Matemática    81.25\n",
            "Inglês        81.25\n",
            "dtype: float64\n"
          ]
        }
      ]
    },
    {
      "cell_type": "code",
      "metadata": {
        "id": "kOJ_jrKUSmDl"
      },
      "source": [
        ""
      ],
      "execution_count": null,
      "outputs": []
    }
  ]
}