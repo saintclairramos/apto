{
  "nbformat": 4,
  "nbformat_minor": 0,
  "metadata": {
    "colab": {
      "name": "Testando_Colab_e_GitHub_Prova2 Perguntas.ipynb",
      "provenance": []
    },
    "kernelspec": {
      "name": "python3",
      "display_name": "Python 3"
    },
    "language_info": {
      "name": "python"
    }
  },
  "cells": [
    {
      "cell_type": "markdown",
      "metadata": {
        "id": "b-cnhnJ9RPfv"
      },
      "source": [
        ""
      ]
    },
    {
      "cell_type": "markdown",
      "metadata": {
        "id": "s9OVoeW6LNQG"
      },
      "source": [
        "**Exercício 1:** Utilizando Web scraping com lxml, capturar os índices de 1 a 7 da url abaixo:\n",
        "*   url = \"https://es.wikipedia.org/wiki/Web_scraping\"\n",
        "*   dar um print (indice, conteudo)\n",
        "\n"
      ]
    },
    {
      "cell_type": "code",
      "metadata": {
        "id": "skkZMU5ZRU2P"
      },
      "source": [
        ""
      ],
      "execution_count": null,
      "outputs": []
    },
    {
      "cell_type": "markdown",
      "metadata": {
        "id": "3aNiNZTrRV-_"
      },
      "source": [
        "**Exercício 2:** \n",
        "A PyCEPCorreios utiliza por padrão de consulta a API provida pelo serviço ApiCEP. Para utilização de outros serviços, devemos indica o serviço desejado ao chamar a função get_address_from_cep. O CEP sempre deve ser uma string e pode ou não conter pontuação.\n",
        "\n",
        "\n",
        "*   Faça um programa que use o pycep;\n",
        "*   Receba via input \"Digite o o cep com 8 dígitos\";\n",
        "*   Mostrar a registro recuperado."
      ]
    },
    {
      "cell_type": "code",
      "metadata": {
        "id": "tiU0RnIsRcfc"
      },
      "source": [
        ""
      ],
      "execution_count": null,
      "outputs": []
    },
    {
      "cell_type": "markdown",
      "metadata": {
        "id": "jDNyjEUpRdbB"
      },
      "source": [
        "**Exercício 3:** Calcular o fatorial\n",
        "*   Faça um programa capaz calcular o fatorial de um determinado número; \n",
        "*   Receba via input \"Digite um número para calcular seu fatorial\";\n",
        "*   Mostrar o valor que corresponde ao número informado."
      ]
    },
    {
      "cell_type": "code",
      "metadata": {
        "id": "n2x_Uf0-Rl_u"
      },
      "source": [
        ""
      ],
      "execution_count": null,
      "outputs": []
    }
  ]
}